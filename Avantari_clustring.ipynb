{
  "nbformat": 4,
  "nbformat_minor": 0,
  "metadata": {
    "colab": {
      "name": "Avantari_clustring.ipynb",
      "provenance": [],
      "private_outputs": true,
      "collapsed_sections": []
    },
    "kernelspec": {
      "name": "python3",
      "display_name": "Python 3"
    }
  },
  "cells": [
    {
      "cell_type": "markdown",
      "metadata": {
        "colab_type": "text",
        "id": "hRTa3Ee15WsJ"
      },
      "source": [
        "# Image feature Extraction Transfer Learning"
      ]
    },
    {
      "cell_type": "markdown",
      "metadata": {
        "colab_type": "text",
        "id": "dQHMcypT3vDT"
      },
      "source": [
        "    * Tapan Kumar Patro\n",
        "    * tapankumarpatro05@gmail.com\n",
        "\n",
        "## Work Items:\n",
        "    1.Image Load\n",
        "    2.Feature Extraction for all Image\n",
        "    3.Save into A pickel file\n",
        "    4.Load the pickel file\n",
        "    5.Extract feature from given image\n",
        "    6.Find the minimum distance and return the images\n"
      ]
    },
    {
      "cell_type": "markdown",
      "metadata": {
        "id": "rKIpkNdb-OpJ",
        "colab_type": "text"
      },
      "source": [
        "## Importing Libraries"
      ]
    },
    {
      "cell_type": "code",
      "metadata": {
        "colab_type": "code",
        "id": "iBMcobPHdD8O",
        "colab": {}
      },
      "source": [
        "from __future__ import absolute_import, division, print_function, unicode_literals\n",
        "# from google_images_download import google_images_download\n",
        "\n",
        "try:\n",
        "  # The %tensorflow_version magic only works in colab.\n",
        "  %tensorflow_version 2.x\n",
        "except Exception:\n",
        "  pass\n",
        "import tensorflow as tf\n",
        "\n",
        "import os\n",
        "import numpy as np\n",
        "import matplotlib.pyplot as plt\n",
        "import matplotlib.image as mpimg"
      ],
      "execution_count": null,
      "outputs": []
    },
    {
      "cell_type": "code",
      "metadata": {
        "colab_type": "code",
        "id": "NOG3l_MsBO1A",
        "colab": {}
      },
      "source": [
        "tf.__version__"
      ],
      "execution_count": null,
      "outputs": []
    },
    {
      "cell_type": "code",
      "metadata": {
        "id": "DNnr21w1Y12Z",
        "colab_type": "code",
        "colab": {}
      },
      "source": [
        "import os\n",
        "from tqdm import tqdm\n",
        "from tensorflow.keras import models, layers\n",
        "from tensorflow.keras.models import Model\n",
        "from tensorflow.keras.layers import BatchNormalization, Activation, Flatten\n",
        "from tensorflow.keras.optimizers import Adam\n",
        "from tensorflow.keras.regularizers import l2\n",
        "from tensorflow.keras.layers import Dense,AveragePooling2D,BatchNormalization,Conv2D,Input,Flatten,Activation,concatenate,Dropout,GlobalAveragePooling2D, GlobalMaxPooling2D\n",
        "from time import time\n",
        "from datetime import datetime\n",
        "from tensorflow.python.keras.callbacks import TensorBoard\n",
        "import cv2"
      ],
      "execution_count": null,
      "outputs": []
    },
    {
      "cell_type": "markdown",
      "metadata": {
        "colab_type": "text",
        "id": "v77rlkCKW0IJ"
      },
      "source": [
        "## Setup Google Colab for importing Dataset"
      ]
    },
    {
      "cell_type": "code",
      "metadata": {
        "id": "XLPn-oPUFxKj",
        "colab_type": "code",
        "colab": {}
      },
      "source": [
        "from google.colab import drive\n",
        "drive.mount('/content/drive')"
      ],
      "execution_count": null,
      "outputs": []
    },
    {
      "cell_type": "code",
      "metadata": {
        "id": "Ta-fKS_NFyAQ",
        "colab_type": "code",
        "colab": {}
      },
      "source": [
        "# Navigating to Dataset folder in my drive\n",
        "path = 'drive/My Drive/PocketApps/Avantari/dataset'\n",
        "os.chdir(path)\n"
      ],
      "execution_count": null,
      "outputs": []
    },
    {
      "cell_type": "code",
      "metadata": {
        "id": "7Tx4wtJEQSgd",
        "colab_type": "code",
        "colab": {}
      },
      "source": [
        "!pwd"
      ],
      "execution_count": null,
      "outputs": []
    },
    {
      "cell_type": "markdown",
      "metadata": {
        "id": "5gUaFiHiywLj",
        "colab_type": "text"
      },
      "source": [
        "# Clustring\n"
      ]
    },
    {
      "cell_type": "code",
      "metadata": {
        "id": "WnJkf4D1zbVD",
        "colab_type": "code",
        "colab": {}
      },
      "source": [
        "# # Navigating to Dataset folder in my drive\n",
        "# path = 'drive/My Drive/PocketApps/Avantari'\n",
        "# os.chdir(path)\n",
        "# %cd .."
      ],
      "execution_count": null,
      "outputs": []
    },
    {
      "cell_type": "code",
      "metadata": {
        "id": "vOZH1AHIz8B7",
        "colab_type": "code",
        "colab": {}
      },
      "source": [
        "import pickle\n"
      ],
      "execution_count": null,
      "outputs": []
    },
    {
      "cell_type": "code",
      "metadata": {
        "id": "so8U3pnqwkWv",
        "colab_type": "code",
        "colab": {}
      },
      "source": [
        "# Loading pickle file\n",
        "\n",
        "def load_stuff(filename):\n",
        "    saved_stuff = open(filename, \"rb\")\n",
        "    stuff = pickle.load(saved_stuff)\n",
        "    saved_stuff.close()\n",
        "    return stuff\n",
        "    \n",
        "precompute_features = load_stuff(\"precompute_img_features.pickle\")"
      ],
      "execution_count": null,
      "outputs": []
    },
    {
      "cell_type": "code",
      "metadata": {
        "id": "AYC3fEolyvWx",
        "colab_type": "code",
        "colab": {}
      },
      "source": [
        "# Collecting all features for Clustering\n",
        "all_features = []\n",
        "\n",
        "for each_image_data in precompute_features:\n",
        "    image_feature = each_image_data.get(\"features\")\n",
        "    all_features.append(image_feature[0])\n",
        "    "
      ],
      "execution_count": null,
      "outputs": []
    },
    {
      "cell_type": "code",
      "metadata": {
        "id": "BDWJfhWm0Afj",
        "colab_type": "code",
        "colab": {}
      },
      "source": [
        "import numpy as np\n",
        "from sklearn.cluster import KMeans\n",
        "import pandas as pd\n",
        "from sklearn.manifold import TSNE\n",
        "import seaborn as sns\n",
        "import matplotlib.pyplot as plt\n",
        "import matplotlib.image as mpimg\n",
        "import matplotlib.patheffects as PathEffects\n",
        "import shutil\n",
        "from tqdm import tqdm"
      ],
      "execution_count": null,
      "outputs": []
    },
    {
      "cell_type": "code",
      "metadata": {
        "id": "4MBUvLiH2Jae",
        "colab_type": "code",
        "colab": {}
      },
      "source": [
        ""
      ],
      "execution_count": null,
      "outputs": []
    },
    {
      "cell_type": "code",
      "metadata": {
        "id": "FOah4rSQ0HVj",
        "colab_type": "code",
        "colab": {}
      },
      "source": [
        "# Clustering with K Means with 10 clusters\n",
        "kmeans = KMeans(n_clusters=10, random_state=0).fit(np.array(all_features))\n"
      ],
      "execution_count": null,
      "outputs": []
    },
    {
      "cell_type": "code",
      "metadata": {
        "id": "OJyMM81k4EmS",
        "colab_type": "code",
        "colab": {}
      },
      "source": [
        "!pwd"
      ],
      "execution_count": null,
      "outputs": []
    },
    {
      "cell_type": "code",
      "metadata": {
        "id": "LUKnAcaD4THV",
        "colab_type": "code",
        "colab": {}
      },
      "source": [
        "all_images = os.listdir()"
      ],
      "execution_count": null,
      "outputs": []
    },
    {
      "cell_type": "code",
      "metadata": {
        "id": "xy00Dk5_4TCy",
        "colab_type": "code",
        "colab": {}
      },
      "source": [
        "all_images[:3]"
      ],
      "execution_count": null,
      "outputs": []
    },
    {
      "cell_type": "code",
      "metadata": {
        "id": "z6nvZxGW3XDJ",
        "colab_type": "code",
        "colab": {}
      },
      "source": [
        "# categorizing images into clusters\n",
        "\n",
        "print(\"\\n\")\n",
        "for i, m in tqdm(enumerate(kmeans.labels_)):\n",
        "    print(\"    Copy: %s / %s\" %(i, len(kmeans.labels_)), end=\"\\r\")\n",
        "    shutil.copy(all_images[i], str(m) + \"_\" + str(i) + \".jpg\")"
      ],
      "execution_count": null,
      "outputs": []
    },
    {
      "cell_type": "code",
      "metadata": {
        "id": "Iunfb2EwEr3Q",
        "colab_type": "code",
        "colab": {}
      },
      "source": [
        ""
      ],
      "execution_count": null,
      "outputs": []
    },
    {
      "cell_type": "code",
      "metadata": {
        "id": "J3YCc_fh0H2i",
        "colab_type": "code",
        "colab": {}
      },
      "source": [
        "# Labes\n",
        "Y=kmeans.labels_"
      ],
      "execution_count": null,
      "outputs": []
    },
    {
      "cell_type": "code",
      "metadata": {
        "id": "hhzQQmvm1tJH",
        "colab_type": "code",
        "colab": {}
      },
      "source": [
        "z = pd.DataFrame(Y.tolist()) # a list\n",
        "# Fit the model using t-SNE randomized algorithm\n",
        "digits_proj = TSNE(random_state=25111993).fit_transform(all_features)"
      ],
      "execution_count": null,
      "outputs": []
    },
    {
      "cell_type": "code",
      "metadata": {
        "id": "Ag9W956T0H6v",
        "colab_type": "code",
        "colab": {}
      },
      "source": [
        "# An user defined function to create scatter plot of features\n",
        "def scatter(x, colors):\n",
        "    # We choose a color palette with seaborn.\n",
        "    palette = np.array(sns.color_palette(\"hls\", 18))\n",
        "\n",
        "    # We create a scatter plot.\n",
        "    f = plt.figure(figsize=(32, 32))\n",
        "    ax = plt.subplot(aspect='equal')\n",
        "    sc = ax.scatter(x[:,0], x[:,1], lw=0, s=120,\n",
        "                    c=palette[colors.astype(np.int)])\n",
        "    \n",
        "    ax.axis('off')\n",
        "    ax.axis('tight')\n",
        "\n",
        "    # We add the labels for each cluster.\n",
        "    txts = []\n",
        "    for i in range(18):\n",
        "        # Position of each label.\n",
        "        xtext, ytext = np.median(x[colors == i, :], axis=0)\n",
        "        txt = ax.text(xtext, ytext, str(i), fontsize=50)\n",
        "        txt.set_path_effects([\n",
        "            PathEffects.Stroke(linewidth=5, foreground=\"w\"),\n",
        "            PathEffects.Normal()])\n",
        "        txts.append(txt)\n",
        "\n",
        "    return f, ax, sc, txts"
      ],
      "execution_count": null,
      "outputs": []
    },
    {
      "cell_type": "code",
      "metadata": {
        "id": "anXeaTjw0HyA",
        "colab_type": "code",
        "colab": {}
      },
      "source": [
        "# Ploting the graph.\n",
        "print(list(range(0,18)))\n",
        "sns.palplot(np.array(sns.color_palette(\"hls\", 18)))\n",
        "scatter(digits_proj, Y)\n",
        "plt.savefig('animal_cluster_.png', dpi=120)\n"
      ],
      "execution_count": null,
      "outputs": []
    },
    {
      "cell_type": "code",
      "metadata": {
        "id": "G7fptZvA2Ha8",
        "colab_type": "code",
        "colab": {}
      },
      "source": [
        "cluster1 = []\n",
        "cluster5 = []"
      ],
      "execution_count": null,
      "outputs": []
    },
    {
      "cell_type": "markdown",
      "metadata": {
        "id": "OjNgl_T3E9O2",
        "colab_type": "text"
      },
      "source": [
        "### Some Image Samples from Clusters"
      ]
    },
    {
      "cell_type": "code",
      "metadata": {
        "id": "rCjApYgsGKWg",
        "colab_type": "code",
        "colab": {}
      },
      "source": [
        "from PIL import Image"
      ],
      "execution_count": null,
      "outputs": []
    },
    {
      "cell_type": "code",
      "metadata": {
        "id": "8dLWqLQtFuYA",
        "colab_type": "code",
        "colab": {}
      },
      "source": [
        "all_images_cluster = os.listdir()"
      ],
      "execution_count": null,
      "outputs": []
    },
    {
      "cell_type": "code",
      "metadata": {
        "id": "6tXapDfYE8wy",
        "colab_type": "code",
        "colab": {}
      },
      "source": [
        "for img_name in all_images_cluster:\n",
        "    if \"1_\" in img_name:\n",
        "        cluster1.append(img_name)\n",
        "    elif \"5_\" in img_name:\n",
        "        cluster5.append(img_name)\n",
        "    else:\n",
        "        pass "
      ],
      "execution_count": null,
      "outputs": []
    },
    {
      "cell_type": "code",
      "metadata": {
        "id": "Mkr0pU2hFqua",
        "colab_type": "code",
        "colab": {}
      },
      "source": [
        "cluster1[:3]"
      ],
      "execution_count": null,
      "outputs": []
    },
    {
      "cell_type": "code",
      "metadata": {
        "id": "f8KrK8RvGALc",
        "colab_type": "code",
        "colab": {}
      },
      "source": [
        "cluster5[:3]"
      ],
      "execution_count": null,
      "outputs": []
    },
    {
      "cell_type": "markdown",
      "metadata": {
        "id": "45gFRrJAGibq",
        "colab_type": "text"
      },
      "source": [
        "### Ploting 3 images from Cluster 1"
      ]
    },
    {
      "cell_type": "code",
      "metadata": {
        "id": "3oPAnKPFFNPG",
        "colab_type": "code",
        "colab": {}
      },
      "source": [
        "for i, val in enumerate(cluster1[:3]):\n",
        "    plt.subplot(1, 3, i+1)\n",
        "    image_data = Image.open(val)\n",
        "    plt.imshow(image_data)\n",
        "    plt.show()"
      ],
      "execution_count": null,
      "outputs": []
    },
    {
      "cell_type": "markdown",
      "metadata": {
        "id": "VIWg8r7hGfJv",
        "colab_type": "text"
      },
      "source": [
        "### Ploting 3 images from Cluster 5"
      ]
    },
    {
      "cell_type": "code",
      "metadata": {
        "id": "mBp7byWNGELT",
        "colab_type": "code",
        "colab": {}
      },
      "source": [
        "for i, val in enumerate(cluster5[7:10]):\n",
        "    plt.subplot(1, 3, i+1)\n",
        "    image_data = Image.open(val)\n",
        "    plt.imshow(image_data)\n",
        "    plt.show()"
      ],
      "execution_count": null,
      "outputs": []
    },
    {
      "cell_type": "code",
      "metadata": {
        "id": "I2TEmsdXGOH1",
        "colab_type": "code",
        "colab": {}
      },
      "source": [
        ""
      ],
      "execution_count": null,
      "outputs": []
    },
    {
      "cell_type": "code",
      "metadata": {
        "id": "0Hi-lMSbioHP",
        "colab_type": "code",
        "colab": {}
      },
      "source": [
        ""
      ],
      "execution_count": null,
      "outputs": []
    },
    {
      "cell_type": "code",
      "metadata": {
        "id": "Ge9Opbz7ioEM",
        "colab_type": "code",
        "colab": {}
      },
      "source": [
        ""
      ],
      "execution_count": null,
      "outputs": []
    },
    {
      "cell_type": "code",
      "metadata": {
        "id": "vx5VuoZWin_L",
        "colab_type": "code",
        "colab": {}
      },
      "source": [
        ""
      ],
      "execution_count": null,
      "outputs": []
    },
    {
      "cell_type": "code",
      "metadata": {
        "id": "IudqNByMin4Q",
        "colab_type": "code",
        "colab": {}
      },
      "source": [
        ""
      ],
      "execution_count": null,
      "outputs": []
    }
  ]
}